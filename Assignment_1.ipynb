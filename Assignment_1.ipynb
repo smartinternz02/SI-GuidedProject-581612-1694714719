{
  "nbformat": 4,
  "nbformat_minor": 0,
  "metadata": {
    "colab": {
      "provenance": []
    },
    "kernelspec": {
      "name": "python3",
      "display_name": "Python 3"
    },
    "language_info": {
      "name": "python"
    }
  },
  "cells": [
    {
      "cell_type": "code",
      "execution_count": null,
      "metadata": {
        "colab": {
          "base_uri": "https://localhost:8080/"
        },
        "id": "oMlpnmwZfEmS",
        "outputId": "9ce51061-c752-444e-cb1a-7f7eaf8da166"
      },
      "outputs": [
        {
          "output_type": "stream",
          "name": "stdout",
          "text": [
            "   Feature1  Feature2  Feature3  Feature4\n",
            "0  0.374540  0.950714  0.731994  0.598658\n",
            "1  0.156019  0.155995  0.058084  0.866176\n",
            "2  0.601115  0.708073  0.020584  0.969910\n",
            "3  0.832443  0.212339  0.181825  0.183405\n"
          ]
        }
      ],
      "source": [
        "import pandas as pd\n",
        "import numpy as np\n",
        "\n",
        "# Create random values using numpy\n",
        "np.random.seed(42)\n",
        "data = np.random.rand(4, 4)\n",
        "\n",
        "# Create DataFrame\n",
        "df = pd.DataFrame(data, columns=['Feature1', 'Feature2', 'Feature3', 'Feature4'])\n",
        "\n",
        "# Display the DataFrame\n",
        "print(df)\n"
      ]
    },
    {
      "cell_type": "code",
      "source": [
        "import pandas as pd\n",
        "import numpy as np\n",
        "\n",
        "# Create random values using numpy\n",
        "np.random.seed(42)\n",
        "data = np.random.rand(4, 4)\n",
        "\n",
        "# Create DataFrame\n",
        "df = pd.DataFrame(data, columns=['Feature1', 'Feature2', 'Feature3', 'Feature4'])\n",
        "\n",
        "# Rename column names\n",
        "new_column_names = {\n",
        "    'Feature1': 'Random value 1',\n",
        "    'Feature2': 'Random value 2',\n",
        "    'Feature3': 'Random value 3',\n",
        "    'Feature4': 'Random value 4'\n",
        "}\n",
        "df.rename(columns=new_column_names, inplace=True)\n",
        "\n",
        "# Display the updated DataFrame\n",
        "print(df)"
      ],
      "metadata": {
        "colab": {
          "base_uri": "https://localhost:8080/"
        },
        "id": "KfxmRxN0fwCK",
        "outputId": "00db7d85-1a73-4da0-bc3f-fe68779cb7f8"
      },
      "execution_count": null,
      "outputs": [
        {
          "output_type": "stream",
          "name": "stdout",
          "text": [
            "   Random value 1  Random value 2  Random value 3  Random value 4\n",
            "0        0.374540        0.950714        0.731994        0.598658\n",
            "1        0.156019        0.155995        0.058084        0.866176\n",
            "2        0.601115        0.708073        0.020584        0.969910\n",
            "3        0.832443        0.212339        0.181825        0.183405\n"
          ]
        }
      ]
    },
    {
      "cell_type": "code",
      "source": [
        "import pandas as pd\n",
        "import numpy as np\n",
        "\n",
        "# Create random values using numpy\n",
        "np.random.seed(42)\n",
        "data = np.random.rand(4, 4)\n",
        "\n",
        "# Create DataFrame\n",
        "df = pd.DataFrame(data, columns=['Random value 1', 'Random value 2', 'Random value 3', 'Random value 4'])\n",
        "\n",
        "# Get descriptive statistics\n",
        "descriptive_stats = df.describe()\n",
        "\n",
        "# Display the descriptive statistics\n",
        "print(descriptive_stats)"
      ],
      "metadata": {
        "colab": {
          "base_uri": "https://localhost:8080/"
        },
        "id": "2lD_JWc7f32U",
        "outputId": "faf4b277-f79b-46c1-87f8-161c6a2ef078"
      },
      "execution_count": null,
      "outputs": [
        {
          "output_type": "stream",
          "name": "stdout",
          "text": [
            "       Random value 1  Random value 2  Random value 3  Random value 4\n",
            "count        4.000000        4.000000        4.000000        4.000000\n",
            "mean         0.491029        0.506780        0.248122        0.654537\n",
            "std          0.291252        0.386153        0.329856        0.350875\n",
            "min          0.156019        0.155995        0.020584        0.183405\n",
            "25%          0.319910        0.198253        0.048709        0.494845\n",
            "50%          0.487828        0.460206        0.119954        0.732417\n",
            "75%          0.658947        0.768733        0.319367        0.892110\n",
            "max          0.832443        0.950714        0.731994        0.969910\n"
          ]
        }
      ]
    },
    {
      "cell_type": "code",
      "source": [
        "import pandas as pd\n",
        "import numpy as np\n",
        "\n",
        "# Create random values using numpy\n",
        "np.random.seed(42)\n",
        "data = np.random.rand(4, 4)\n",
        "\n",
        "# Create DataFrame\n",
        "df = pd.DataFrame(data, columns=['Random value 1', 'Random value 2', 'Random value 3', 'Random value 4'])\n",
        "\n",
        "# Check for null values\n",
        "null_values = df.isnull().sum()\n",
        "\n",
        "# Get data types of columns\n",
        "data_types = df.dtypes\n",
        "\n",
        "# Display the results\n",
        "print(\"Null Values:\\n\", null_values)\n",
        "print(\"\\nData Types:\\n\", data_types)"
      ],
      "metadata": {
        "colab": {
          "base_uri": "https://localhost:8080/"
        },
        "id": "pfwWYmHJf9x-",
        "outputId": "a53580cc-415e-4bdb-b294-6b4b24a00c32"
      },
      "execution_count": null,
      "outputs": [
        {
          "output_type": "stream",
          "name": "stdout",
          "text": [
            "Null Values:\n",
            " Random value 1    0\n",
            "Random value 2    0\n",
            "Random value 3    0\n",
            "Random value 4    0\n",
            "dtype: int64\n",
            "\n",
            "Data Types:\n",
            " Random value 1    float64\n",
            "Random value 2    float64\n",
            "Random value 3    float64\n",
            "Random value 4    float64\n",
            "dtype: object\n"
          ]
        }
      ]
    },
    {
      "cell_type": "code",
      "source": [
        "import pandas as pd\n",
        "import numpy as np\n",
        "\n",
        "# Create random values using numpy\n",
        "np.random.seed(42)\n",
        "data = np.random.rand(4, 4)\n",
        "\n",
        "# Create DataFrame\n",
        "df = pd.DataFrame(data, columns=['Random value 1', 'Random value 2', 'Random value 3', 'Random value 4'])\n",
        "\n",
        "# Display 'Random value 2' and 'Random value 3' using .loc method\n",
        "print(\"Using .loc method:\")\n",
        "print(df.loc[:, ['Random value 2', 'Random value 3']])\n",
        "\n",
        "# Display 'Random value 2' and 'Random value 3' using .iloc method\n",
        "print(\"\\nUsing .iloc method:\")\n",
        "print(df.iloc[:, [1, 2]])\n"
      ],
      "metadata": {
        "colab": {
          "base_uri": "https://localhost:8080/"
        },
        "id": "zcKvfKMggF5e",
        "outputId": "28550835-d522-4ac6-d30d-a7763d4bb91d"
      },
      "execution_count": null,
      "outputs": [
        {
          "output_type": "stream",
          "name": "stdout",
          "text": [
            "Using .loc method:\n",
            "   Random value 2  Random value 3\n",
            "0        0.950714        0.731994\n",
            "1        0.155995        0.058084\n",
            "2        0.708073        0.020584\n",
            "3        0.212339        0.181825\n",
            "\n",
            "Using .iloc method:\n",
            "   Random value 2  Random value 3\n",
            "0        0.950714        0.731994\n",
            "1        0.155995        0.058084\n",
            "2        0.708073        0.020584\n",
            "3        0.212339        0.181825\n"
          ]
        }
      ]
    }
  ]
}